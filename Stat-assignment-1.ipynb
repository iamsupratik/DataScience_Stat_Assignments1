{
 "cells": [
  {
   "cell_type": "markdown",
   "metadata": {},
   "source": [
    "##Problem Statement 1:\n",
    "You survey households in your area to find the average rent they are paying. Find the\n",
    "standard deviation from the following data:\n",
    "$1550, $1700, $900, $850, $1000, $950."
   ]
  },
  {
   "cell_type": "code",
   "execution_count": 1,
   "metadata": {},
   "outputs": [
    {
     "name": "stdout",
     "output_type": "stream",
     "text": [
      "The mean is:{:2f} 1158.3333333333333\n",
      "The variance is:{:2f} 112847.22222222223\n",
      "The standard deviation is:{:2f} 335.92740617910624\n"
     ]
    }
   ],
   "source": [
    "import numpy as np\n",
    "x = np.array([1550, 1700, 900,850,1000,950])\n",
    "mean = np.mean(x)\n",
    "print(\"The mean is:{:2f}\",format(mean))\n",
    "variance = np.var(x)\n",
    "print(\"The variance is:{:2f}\",format(variance))\n",
    "std = np.std(x)\n",
    "print(\"The standard deviation is:{:2f}\",format(std))"
   ]
  },
  {
   "cell_type": "markdown",
   "metadata": {},
   "source": [
    "##Problem Statement 2:\n",
    "Find the variance for the following set of data representing trees in California (heights in\n",
    "feet):\n",
    "3, 21, 98, 203, 17, 9"
   ]
  },
  {
   "cell_type": "code",
   "execution_count": 2,
   "metadata": {},
   "outputs": [
    {
     "name": "stdout",
     "output_type": "stream",
     "text": [
      "The mean is:{:2f} 58.5\n",
      "The variance is:{:2f} 5183.25\n"
     ]
    }
   ],
   "source": [
    "import numpy as np\n",
    "x = np.array([3,21,98,203,17,9])\n",
    "mean = np.mean(x)\n",
    "print(\"The mean is:{:2f}\",format(mean))\n",
    "variance = np.var(x)\n",
    "print(\"The variance is:{:2f}\",format(variance))\n",
    "#std = np.std(x)\n",
    "#print(\"The standard deviation is:{:2f}\",format(std))"
   ]
  },
  {
   "cell_type": "markdown",
   "metadata": {},
   "source": [
    "Problem Statement 3:\n",
    "In a class on 100 students, 80 students passed in all subjects, 10 failed in one subject, 7\n",
    "failed in two subjects and 3 failed in three subjects. Find the probability distribution of\n",
    "the variable for number of subjects a student from the given class has failed in."
   ]
  },
  {
   "cell_type": "code",
   "execution_count": 3,
   "metadata": {},
   "outputs": [
    {
     "name": "stdout",
     "output_type": "stream",
     "text": [
      "Probability for fail in subject 0\n",
      "0.8\n",
      "Probability for fail in subject 1\n",
      "0.1\n",
      "Probability for fail in subject 2\n",
      "0.07\n",
      "Probability for fail in subject 3\n",
      "0.03\n"
     ]
    }
   ],
   "source": [
    "x = (\"80\",\"10\",\"7\",\"3\")\n",
    "x = [int(i) for i in x]\n",
    "total_student = 100\n",
    "for i in  range(len(x)):\n",
    "    print(\"Probability for fail in subject\",i)\n",
    "    probability = x[i]/total_student\n",
    "    print(probability)"
   ]
  }
 ],
 "metadata": {
  "kernelspec": {
   "display_name": "Python 3",
   "language": "python",
   "name": "python3"
  },
  "language_info": {
   "codemirror_mode": {
    "name": "ipython",
    "version": 3
   },
   "file_extension": ".py",
   "mimetype": "text/x-python",
   "name": "python",
   "nbconvert_exporter": "python",
   "pygments_lexer": "ipython3",
   "version": "3.6.5"
  }
 },
 "nbformat": 4,
 "nbformat_minor": 2
}
